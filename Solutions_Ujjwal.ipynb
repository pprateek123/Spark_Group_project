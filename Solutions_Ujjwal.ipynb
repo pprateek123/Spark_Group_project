{
 "cells": [
  {
   "attachments": {},
   "cell_type": "markdown",
   "metadata": {},
   "source": [
    "Data Analysis on \" International Trade Dataset : June 2023 Quarter \" by Stat Government of New Zealand\n",
    "\n",
    "Link to dataset : https://www.stats.govt.nz/assets/Uploads/International-trade/International-trade-June-2023-quarter/Download-data/international-trade-june-2023-quarter.zip"
   ]
  },
  {
   "cell_type": "code",
   "execution_count": 84,
   "metadata": {},
   "outputs": [],
   "source": [
    "#Importing all the necessary library \n",
    "\n",
    "from pyspark.sql import SparkSession\n",
    "import pyspark.sql.functions as F\n",
    "from pyspark.sql.functions import   avg, rank, concat\n",
    "from pyspark.sql.types import  FloatType, DoubleType\n",
    "from pyspark.sql.window import Window\n",
    "from pyspark.sql.functions import udf"
   ]
  },
  {
   "cell_type": "code",
   "execution_count": 54,
   "metadata": {},
   "outputs": [],
   "source": [
    "#Initiation of Spark session\n",
    "\n",
    "spark = SparkSession.builder.appName(\"International_Trade\").getOrCreate()"
   ]
  },
  {
   "attachments": {},
   "cell_type": "markdown",
   "metadata": {},
   "source": [
    "Loading the dataset"
   ]
  },
  {
   "cell_type": "code",
   "execution_count": 55,
   "metadata": {},
   "outputs": [
    {
     "name": "stderr",
     "output_type": "stream",
     "text": [
      "                                                                                \r"
     ]
    }
   ],
   "source": [
    "#revised_data\n",
    "data_path = \"/Users/anujkhadka/Fusemachines47/ALL SPARK/Spark_Group_project/data/revised_final_data1.csv\"  \n",
    "revised_final = spark.read.csv(data_path, header=True, inferSchema=True)\n",
    "\n",
    "#goods_classifications\n",
    "data_path = \"/Users/anujkhadka/Fusemachines47/ALL SPARK/Spark_Group_project/data/goods_classification.csv\"  \n",
    "goods_final = spark.read.csv(data_path, header=True, inferSchema=True)\n",
    "\n",
    "#country_classification\n",
    "data_path = \"/Users/anujkhadka/Fusemachines47/ALL SPARK/Spark_Group_project/data/country_classification.csv\"  \n",
    "country_final = spark.read.csv(data_path, header=True, inferSchema=True)\n",
    "\n",
    "#services_classification\n",
    "data_path = \"/Users/anujkhadka/Fusemachines47/ALL SPARK/Spark_Group_project/data/services_classification.csv\"  \n",
    "services_final = spark.read.csv(data_path, header=True, inferSchema=True)"
   ]
  },
  {
   "cell_type": "code",
   "execution_count": null,
   "metadata": {},
   "outputs": [],
   "source": []
  },
  {
   "attachments": {},
   "cell_type": "markdown",
   "metadata": {},
   "source": [
    "1. Generate a pivot table that shows the total import values of Services for the top 4 importing countries in June 2023, with  \"Transportation\" service categories as columns."
   ]
  },
  {
   "cell_type": "code",
   "execution_count": 56,
   "metadata": {},
   "outputs": [],
   "source": [
    "from pyspark.sql.functions import col, sum\n",
    "\n",
    "#Using filter for the revised dataset for importing\n",
    "\n",
    "import_df = revised_df.filter((col(\"account\") == \"Imports\") & (col(\"time_ref\") == \"2023-06-30\"))"
   ]
  },
  {
   "cell_type": "code",
   "execution_count": 59,
   "metadata": {},
   "outputs": [],
   "source": [
    "# Joining the dataframe \"import_df\" & \"service_df\" on the code(key) column\n",
    "\n",
    "joined_df = import_df.join(services_final, import_df[\"code\"] == services_final[\"code\"])"
   ]
  },
  {
   "cell_type": "code",
   "execution_count": 60,
   "metadata": {},
   "outputs": [],
   "source": [
    "\n",
    "# Using 'Group by' for country_code and service_label\n",
    "\n",
    "grouped_df = joined_df.groupBy(\"country_code\", \"service_label\").sum(\"value\")"
   ]
  },
  {
   "cell_type": "code",
   "execution_count": 61,
   "metadata": {},
   "outputs": [],
   "source": [
    " # ranking of countries \n",
    " \n",
    "ranked_df = grouped_df.orderBy(col(\"sum(value)\").desc())"
   ]
  },
  {
   "cell_type": "code",
   "execution_count": 62,
   "metadata": {},
   "outputs": [],
   "source": [
    "#Top 4 importing countries extraction\n",
    "\n",
    "top_countries = ranked_df.select(\"country_code\").limit(4)"
   ]
  },
  {
   "cell_type": "code",
   "execution_count": 63,
   "metadata": {},
   "outputs": [],
   "source": [
    "# creating pivot table\n",
    "\n",
    "pivot_table = ranked_df \\\n",
    "    .join(top_countries, [\"country_code\"], \"inner\") \\\n",
    "    .groupBy(\"country_code\").pivot(\"service_label\", [\"Services\", \"Transportation\"]) \\\n",
    "    .sum(\"sum(value)\")"
   ]
  },
  {
   "cell_type": "code",
   "execution_count": 64,
   "metadata": {},
   "outputs": [
    {
     "name": "stderr",
     "output_type": "stream",
     "text": [
      "                                                                                \r"
     ]
    },
    {
     "name": "stdout",
     "output_type": "stream",
     "text": [
      "+------------+-------------+--------------+\n",
      "|country_code|     Services|Transportation|\n",
      "+------------+-------------+--------------+\n",
      "|          AU|1.881982847E9|  2.49329771E8|\n",
      "|          US|1.018642986E9|   7.6008244E7|\n",
      "|          XX| 6.81217569E8|   6.3025441E7|\n",
      "|          SG| 9.09750687E8|  3.26007453E8|\n",
      "+------------+-------------+--------------+\n",
      "\n"
     ]
    }
   ],
   "source": [
    "\n",
    "pivot_table.show()"
   ]
  },
  {
   "cell_type": "code",
   "execution_count": null,
   "metadata": {},
   "outputs": [],
   "source": []
  },
  {
   "attachments": {},
   "cell_type": "markdown",
   "metadata": {},
   "source": [
    "2. Analyze the total import value of \"Services\" for each country in June 2023-06-30, and ranking the countries in descending order of import value."
   ]
  },
  {
   "cell_type": "code",
   "execution_count": 65,
   "metadata": {},
   "outputs": [],
   "source": [
    "# Data is stored in 'revised_df' DataFrame \n",
    "\n",
    "import_df = revised_final\n"
   ]
  },
  {
   "cell_type": "markdown",
   "metadata": {},
   "source": []
  },
  {
   "cell_type": "code",
   "execution_count": 66,
   "metadata": {},
   "outputs": [],
   "source": [
    "#'Services' column & import in 2023-06-30 is filtered\n",
    "\n",
    "import_df = import_df.filter((col(\"account\") == \"Imports\") & (col(\"time_ref\") == \"2023-06-30\") & (col(\"product_type\") == \"Services\"))\n"
   ]
  },
  {
   "cell_type": "code",
   "execution_count": 67,
   "metadata": {},
   "outputs": [],
   "source": [
    " # groupBy 'country_code' \n",
    " \n",
    "import_df = import_df.groupBy(\"country_code\").agg(sum(\"value\").alias(\"Total Import Value\"))\n",
    "\n",
    "# descending order  ranking\n",
    "\n",
    "import_df = import_df.orderBy(col(\"Total Import Value\").desc())\n",
    "\n",
    "# Columns renaming\n",
    "import_df = import_df.withColumnRenamed(\"country_code\", \"Country Code\")"
   ]
  },
  {
   "cell_type": "code",
   "execution_count": 68,
   "metadata": {},
   "outputs": [
    {
     "name": "stdout",
     "output_type": "stream",
     "text": [
      "+------------+------------------+\n",
      "|Country Code|Total Import Value|\n",
      "+------------+------------------+\n",
      "|          AU|     6.571340755E9|\n",
      "|          US|      3.46553267E9|\n",
      "|          XX|      2.03107177E9|\n",
      "|          SG|     1.831464711E9|\n",
      "|          CH|     1.136472799E9|\n",
      "|          GB|     1.116098864E9|\n",
      "|          DK|     1.080059039E9|\n",
      "|          CN|      6.56124353E8|\n",
      "|          IE|      3.62344309E8|\n",
      "|          IN|      3.32702047E8|\n",
      "|          CK|      2.83971901E8|\n",
      "|          JP|      2.45157897E8|\n",
      "|          BM|      2.13337641E8|\n",
      "|          PH|      1.95167659E8|\n",
      "|          WS|      1.93461138E8|\n",
      "|          FR|      1.78350741E8|\n",
      "|          ID|      1.72441524E8|\n",
      "|          HK|      1.69274501E8|\n",
      "|          DE|      1.52909324E8|\n",
      "|          CA|      1.51301869E8|\n",
      "+------------+------------------+\n",
      "only showing top 20 rows\n",
      "\n"
     ]
    }
   ],
   "source": [
    "\n",
    "import_df.show()"
   ]
  },
  {
   "cell_type": "code",
   "execution_count": null,
   "metadata": {},
   "outputs": [],
   "source": []
  },
  {
   "attachments": {},
   "cell_type": "markdown",
   "metadata": {},
   "source": [
    "3. Quantify the supreme 20 countries with the highest average export value of \"Goods\" for each month in the updated time_ref & use window functions to calculate the average and rank the countries accordingly"
   ]
  },
  {
   "cell_type": "markdown",
   "metadata": {},
   "source": []
  },
  {
   "cell_type": "code",
   "execution_count": 69,
   "metadata": {},
   "outputs": [],
   "source": [
    "# Dataframe filtering\n",
    "\n",
    "df= df.filter(df['country_code'] != 'TOT (OMT CIF)')\n",
    "\n",
    "df = df.filter(df['country_code'] != 'TOT (OMT VFD)')"
   ]
  },
  {
   "cell_type": "code",
   "execution_count": 70,
   "metadata": {},
   "outputs": [],
   "source": [
    "# updating the time_ref \n",
    "\n",
    "filtered_df = df.filter((col(\"product_type\") == \"Goods\") & (col(\"time_ref\") == \"2023-06-30\"))"
   ]
  },
  {
   "cell_type": "code",
   "execution_count": 74,
   "metadata": {},
   "outputs": [],
   "source": [
    "# Window specification \n",
    "\n",
    "window_spec = Window.partitionBy(\"time_ref\").orderBy(col(\"avg_export_value\").desc())"
   ]
  },
  {
   "cell_type": "code",
   "execution_count": 75,
   "metadata": {},
   "outputs": [],
   "source": [
    "# average export value \n",
    "\n",
    "avg_export_df = (\n",
    "    filtered_df\n",
    "    .groupBy(\"time_ref\", \"country_code\")\n",
    "    .agg(avg(col(\"value\")).alias(\"avg_export_value\"))\n",
    "    .withColumn(\"rank\", rank().over(window_spec))\n",
    ")\n",
    "\n",
    "# top 3 countries \n",
    "\n",
    "top3_countries_by_month = avg_export_df.filter(col(\"rank\") <= 20)"
   ]
  },
  {
   "cell_type": "code",
   "execution_count": 76,
   "metadata": {},
   "outputs": [
    {
     "name": "stderr",
     "output_type": "stream",
     "text": [
      "[Stage 56:==================================================>       (7 + 1) / 8]\r"
     ]
    },
    {
     "name": "stdout",
     "output_type": "stream",
     "text": [
      "+----------+------------+--------------------+----+\n",
      "|  time_ref|country_code|    avg_export_value|rank|\n",
      "+----------+------------+--------------------+----+\n",
      "|2023-06-30|          DZ|        7.94222382E7|   1|\n",
      "|2023-06-30|          ZB|               6.9E7|   2|\n",
      "|2023-06-30|          ZE| 4.138399009090909E7|   3|\n",
      "|2023-06-30|          CN|1.7777409388304863E7|   4|\n",
      "|2023-06-30|          LY|         1.4830665E7|   5|\n",
      "|2023-06-30|          ZP|         1.4671178E7|   6|\n",
      "|2023-06-30|          TT|1.1182984674418604E7|   7|\n",
      "|2023-06-30|          US|   7460452.486175115|   8|\n",
      "|2023-06-30|          AU|   6452173.105574741|   9|\n",
      "|2023-06-30|          JP|   6377873.931760741|  10|\n",
      "|2023-06-30|          KR|  5682210.5516528925|  11|\n",
      "|2023-06-30|          SA|   5121354.310880829|  12|\n",
      "|2023-06-30|          SG|  4614410.8317460315|  13|\n",
      "|2023-06-30|          NG|   4525148.837837838|  14|\n",
      "|2023-06-30|          MY|   3657571.621019108|  15|\n",
      "|2023-06-30|          ID|   3116630.939914163|  16|\n",
      "|2023-06-30|          TH|    3102301.36281407|  17|\n",
      "|2023-06-30|          BD|  3013791.1473214286|  18|\n",
      "|2023-06-30|          TG|         2811522.375|  19|\n",
      "|2023-06-30|          DE|   2406579.821656051|  20|\n",
      "+----------+------------+--------------------+----+\n",
      "\n"
     ]
    },
    {
     "name": "stderr",
     "output_type": "stream",
     "text": [
      "                                                                                \r"
     ]
    }
   ],
   "source": [
    "top3_countries_by_month.show()"
   ]
  },
  {
   "cell_type": "code",
   "execution_count": null,
   "metadata": {},
   "outputs": [],
   "source": []
  },
  {
   "attachments": {},
   "cell_type": "markdown",
   "metadata": {},
   "source": [
    "4. Computing the total import value for each country in the 'revised_final' table & presenting the peak 10 countries with the highest total export values."
   ]
  },
  {
   "cell_type": "code",
   "execution_count": 77,
   "metadata": {},
   "outputs": [],
   "source": [
    "\n",
    "from pyspark.sql.functions import sum, desc"
   ]
  },
  {
   "cell_type": "code",
   "execution_count": 78,
   "metadata": {},
   "outputs": [],
   "source": [
    "revised_final = revised_final.filter(revised_final['country_code'] != 'TOT (OMT CIF)')"
   ]
  },
  {
   "cell_type": "code",
   "execution_count": 79,
   "metadata": {},
   "outputs": [],
   "source": [
    "revised_final = revised_final.filter(revised_final['country_code'] != 'TOT (OMT VFD)')"
   ]
  },
  {
   "cell_type": "code",
   "execution_count": 80,
   "metadata": {},
   "outputs": [],
   "source": [
    "# Filtering\n",
    "\n",
    "import_data = revised_final.filter((revised_final[\"account\"] == \"Imports\") & (revised_final[\"time_ref\"] == \"2023-06-30\"))"
   ]
  },
  {
   "cell_type": "code",
   "execution_count": 81,
   "metadata": {},
   "outputs": [],
   "source": [
    "\n",
    "# total import value \n",
    "\n",
    "total_imports = import_data.groupBy(\"country_code\").agg(sum(\"value\").alias(\"total_import_value\"))"
   ]
  },
  {
   "cell_type": "code",
   "execution_count": 82,
   "metadata": {},
   "outputs": [],
   "source": [
    "# countries with the highest total import values\n",
    "\n",
    "top_10_importing_countries = total_imports.orderBy(desc(\"total_import_value\")).limit(10)"
   ]
  },
  {
   "cell_type": "code",
   "execution_count": 83,
   "metadata": {},
   "outputs": [
    {
     "name": "stdout",
     "output_type": "stream",
     "text": [
      "+------------+------------------+\n",
      "|country_code|total_import_value|\n",
      "+------------+------------------+\n",
      "|          AU|   1.2831898537E10|\n",
      "|          CN|   1.1493681947E10|\n",
      "|          US|     9.651088289E9|\n",
      "|          SG|     4.870192374E9|\n",
      "|          JP|     4.309482252E9|\n",
      "|          KR|     3.588781722E9|\n",
      "|          GB|      2.65543796E9|\n",
      "|          MY|     2.601556325E9|\n",
      "|          DE|      2.59538621E9|\n",
      "|          TH|     2.213766428E9|\n",
      "+------------+------------------+\n",
      "\n"
     ]
    }
   ],
   "source": [
    "\n",
    "top_10_importing_countries.show()"
   ]
  },
  {
   "cell_type": "code",
   "execution_count": null,
   "metadata": {},
   "outputs": [],
   "source": []
  },
  {
   "attachments": {},
   "cell_type": "markdown",
   "metadata": {},
   "source": [
    "5. Compute the total export value for each product type i.e 'Goods & Services' in the \"revised_csv\" file for the June 2023 quarter using a UDF."
   ]
  },
  {
   "cell_type": "code",
   "execution_count": 85,
   "metadata": {},
   "outputs": [],
   "source": [
    "# Defining a UDF \n",
    "\n",
    "def calculate_total_export_value(values):\n",
    "    total = 0.0\n",
    "    \n",
    "    # Iteration\n",
    "    \n",
    "    for val in values:\n",
    "        try:\n",
    "            total += float(val)\n",
    "        except (ValueError, TypeError):\n",
    "            pass  \n",
    "    \n",
    "    return total\n",
    "\n",
    "# Registering the UDF\n",
    "\n",
    "calculate_total_export_udf = udf(calculate_total_export_value, DoubleType())\n",
    "\n",
    "# total export value\n",
    "\n",
    "result_df = df.filter(df.time_ref == \"2023-06-30\") \\\n",
    "    .groupBy(\"product_type\") \\\n",
    "    .agg(calculate_total_export_udf(F.collect_list(\"value\")).alias(\"total_export_value\"))\n",
    "\n",
    "\n",
    "result_df = result_df.withColumn(\"total_export_value\", F.format_number(\"total_export_value\", 1))"
   ]
  },
  {
   "cell_type": "code",
   "execution_count": 86,
   "metadata": {},
   "outputs": [
    {
     "name": "stdout",
     "output_type": "stream",
     "text": [
      "+------------+------------------+\n",
      "|product_type|total_export_value|\n",
      "+------------+------------------+\n",
      "|    Services|  38,639,599,055.0|\n",
      "|       Goods| 114,311,488,643.0|\n",
      "+------------+------------------+\n",
      "\n"
     ]
    },
    {
     "name": "stderr",
     "output_type": "stream",
     "text": [
      "                                                                                \r"
     ]
    }
   ],
   "source": [
    "result_df.show()"
   ]
  },
  {
   "cell_type": "code",
   "execution_count": null,
   "metadata": {},
   "outputs": [],
   "source": []
  },
  {
   "attachments": {},
   "cell_type": "markdown",
   "metadata": {},
   "source": [
    "6. Identify countries where the export value for 'Financial Services' exceeds the import value for 'Financial Services' in 2023-06-30. Implement a UDF for this comparison."
   ]
  },
  {
   "cell_type": "code",
   "execution_count": 88,
   "metadata": {},
   "outputs": [
    {
     "name": "stderr",
     "output_type": "stream",
     "text": [
      "                                                                                \r"
     ]
    },
    {
     "name": "stdout",
     "output_type": "stream",
     "text": [
      "+-------+--------------------+----------+-------+-------+------------+------------+--------+------+----+-------------+----------+-------+----+------------+------------+---------+------+\n",
      "|   code|       service_label|  time_ref|account|   code|country_code|product_type|   value|status|code|service_label|  time_ref|account|code|country_code|product_type|value_exp|status|\n",
      "+-------+--------------------+----------+-------+-------+------------+------------+--------+------+----+-------------+----------+-------+----+------------+------------+---------+------+\n",
      "|A120423|Other personal tr...|2023-06-30|Imports|A120423|          DZ|    Services|110323.0|     F| A12|     Services|2023-06-30|Exports| A12|          DZ|    Services| 330185.0|     F|\n",
      "| A12042|     Personal travel|2023-06-30|Imports| A12042|          DZ|    Services|110323.0|     F| A12|     Services|2023-06-30|Exports| A12|          DZ|    Services| 330185.0|     F|\n",
      "| A12041|     Business travel|2023-06-30|Imports| A12041|          DZ|    Services| 29735.0|     F| A12|     Services|2023-06-30|Exports| A12|          DZ|    Services| 330185.0|     F|\n",
      "|  A1204|              Travel|2023-06-30|Imports|  A1204|          DZ|    Services|140058.0|     F| A12|     Services|2023-06-30|Exports| A12|          DZ|    Services| 330185.0|     F|\n",
      "|    A12|            Services|2023-06-30|Imports|    A12|          DZ|    Services|140058.0|     F| A12|     Services|2023-06-30|Exports| A12|          DZ|    Services| 330185.0|     F|\n",
      "| A12101|Research and deve...|2023-06-30|Imports| A12101|          LT|    Services|    null|     C| A12|     Services|2023-06-30|Exports| A12|          LT|    Services| 562686.0|     F|\n",
      "|  A1210|Other business se...|2023-06-30|Imports|  A1210|          LT|    Services|    null|     C| A12|     Services|2023-06-30|Exports| A12|          LT|    Services| 562686.0|     F|\n",
      "|A120921|   Computer software|2023-06-30|Imports|A120921|          LT|    Services|    null|     C| A12|     Services|2023-06-30|Exports| A12|          LT|    Services| 562686.0|     F|\n",
      "| A12092|   Computer services|2023-06-30|Imports| A12092|          LT|    Services|    null|     C| A12|     Services|2023-06-30|Exports| A12|          LT|    Services| 562686.0|     F|\n",
      "|  A1209|Telecommunication...|2023-06-30|Imports|  A1209|          LT|    Services|    null|     C| A12|     Services|2023-06-30|Exports| A12|          LT|    Services| 562686.0|     F|\n",
      "|A120423|Other personal tr...|2023-06-30|Imports|A120423|          LT|    Services|    null|     C| A12|     Services|2023-06-30|Exports| A12|          LT|    Services| 562686.0|     F|\n",
      "| A12042|     Personal travel|2023-06-30|Imports| A12042|          LT|    Services|    null|     C| A12|     Services|2023-06-30|Exports| A12|          LT|    Services| 562686.0|     F|\n",
      "| A12041|     Business travel|2023-06-30|Imports| A12041|          LT|    Services| 32708.0|     F| A12|     Services|2023-06-30|Exports| A12|          LT|    Services| 562686.0|     F|\n",
      "|  A1204|              Travel|2023-06-30|Imports|  A1204|          LT|    Services|    null|     C| A12|     Services|2023-06-30|Exports| A12|          LT|    Services| 562686.0|     F|\n",
      "|    A12|            Services|2023-06-30|Imports|    A12|          LT|    Services|387465.0|     F| A12|     Services|2023-06-30|Exports| A12|          LT|    Services| 562686.0|     F|\n",
      "|A121022|Advertising, mark...|2023-06-30|Imports|A121022|          MM|    Services|    null|     C| A12|     Services|2023-06-30|Exports| A12|          MM|    Services|2747252.0|     F|\n",
      "| A12102|Professional and ...|2023-06-30|Imports| A12102|          MM|    Services|    null|     C| A12|     Services|2023-06-30|Exports| A12|          MM|    Services|2747252.0|     F|\n",
      "|  A1210|Other business se...|2023-06-30|Imports|  A1210|          MM|    Services|    null|     C| A12|     Services|2023-06-30|Exports| A12|          MM|    Services|2747252.0|     F|\n",
      "|A120423|Other personal tr...|2023-06-30|Imports|A120423|          MM|    Services|545654.0|     F| A12|     Services|2023-06-30|Exports| A12|          MM|    Services|2747252.0|     F|\n",
      "|A120421|Education related...|2023-06-30|Imports|A120421|          MM|    Services|  7659.0|     F| A12|     Services|2023-06-30|Exports| A12|          MM|    Services|2747252.0|     F|\n",
      "+-------+--------------------+----------+-------+-------+------------+------------+--------+------+----+-------------+----------+-------+----+------------+------------+---------+------+\n",
      "only showing top 20 rows\n",
      "\n"
     ]
    }
   ],
   "source": [
    "# Filtering\n",
    "\n",
    "time_ref = \"2023-06-30\"\n",
    "revised_df_filtered = revised_df.filter(col(\"time_ref\") == time_ref)\n",
    "df_joined = services_final.join(revised_df_filtered, revised_df_filtered['code']==services_final['code'])\n",
    "\n",
    "df_imp = df_joined.where(col('account')=='Imports')\n",
    "df_exp  = df_joined.where(col('account')=='Exports')\n",
    "df_exp = df_exp.withColumnRenamed('value',\"value_exp\")\n",
    "df_joined = df_imp.join(df_exp,df_imp['country_code']==df_exp['country_code'])\n",
    "\n",
    "\n",
    "df_joined.show()"
   ]
  },
  {
   "cell_type": "code",
   "execution_count": 89,
   "metadata": {},
   "outputs": [],
   "source": [
    "df_joined = df_joined.withColumn(\"Comparison\", df_joined['value_exp']-df_joined['value'])"
   ]
  },
  {
   "cell_type": "code",
   "execution_count": 90,
   "metadata": {},
   "outputs": [],
   "source": [
    "from pyspark.sql.functions import lit\n",
    "def compare_services(comp):\n",
    "    if comp>lit(0.0):\n",
    "        return \"Export > Import\"\n",
    "    else:\n",
    "        return \"export<import\"\n",
    "# Register the UDF\n",
    "Financial_services = udf(compare_services, FloatType())\n"
   ]
  },
  {
   "cell_type": "code",
   "execution_count": 91,
   "metadata": {},
   "outputs": [
    {
     "ename": "ValueError",
     "evalue": "Cannot convert column into bool: please use '&' for 'and', '|' for 'or', '~' for 'not' when building DataFrame boolean expressions.",
     "output_type": "error",
     "traceback": [
      "\u001b[0;31m---------------------------------------------------------------------------\u001b[0m",
      "\u001b[0;31mValueError\u001b[0m                                Traceback (most recent call last)",
      "Cell \u001b[0;32mIn[91], line 1\u001b[0m\n\u001b[0;32m----> 1\u001b[0m result_df \u001b[39m=\u001b[39m df_joined\u001b[39m.\u001b[39mwithColumn(\u001b[39m'\u001b[39m\u001b[39mFinancial_service\u001b[39m\u001b[39m'\u001b[39m, compare_services(\u001b[39m'\u001b[39;49m\u001b[39mComparison\u001b[39;49m\u001b[39m'\u001b[39;49m))\n",
      "Cell \u001b[0;32mIn[90], line 3\u001b[0m, in \u001b[0;36mcompare_services\u001b[0;34m(comp)\u001b[0m\n\u001b[1;32m      2\u001b[0m \u001b[39mdef\u001b[39;00m \u001b[39mcompare_services\u001b[39m(comp):\n\u001b[0;32m----> 3\u001b[0m     \u001b[39mif\u001b[39;00m comp\u001b[39m>\u001b[39mlit(\u001b[39m0.0\u001b[39m):\n\u001b[1;32m      4\u001b[0m         \u001b[39mreturn\u001b[39;00m \u001b[39m\"\u001b[39m\u001b[39mExport > Import\u001b[39m\u001b[39m\"\u001b[39m\n\u001b[1;32m      5\u001b[0m     \u001b[39melse\u001b[39;00m:\n",
      "File \u001b[0;32m/opt/homebrew/lib/python3.11/site-packages/pyspark/sql/column.py:1369\u001b[0m, in \u001b[0;36mColumn.__nonzero__\u001b[0;34m(self)\u001b[0m\n\u001b[1;32m   1368\u001b[0m \u001b[39mdef\u001b[39;00m \u001b[39m__nonzero__\u001b[39m(\u001b[39mself\u001b[39m) \u001b[39m-\u001b[39m\u001b[39m>\u001b[39m \u001b[39mNone\u001b[39;00m:\n\u001b[0;32m-> 1369\u001b[0m     \u001b[39mraise\u001b[39;00m \u001b[39mValueError\u001b[39;00m(\n\u001b[1;32m   1370\u001b[0m         \u001b[39m\"\u001b[39m\u001b[39mCannot convert column into bool: please use \u001b[39m\u001b[39m'\u001b[39m\u001b[39m&\u001b[39m\u001b[39m'\u001b[39m\u001b[39m for \u001b[39m\u001b[39m'\u001b[39m\u001b[39mand\u001b[39m\u001b[39m'\u001b[39m\u001b[39m, \u001b[39m\u001b[39m'\u001b[39m\u001b[39m|\u001b[39m\u001b[39m'\u001b[39m\u001b[39m for \u001b[39m\u001b[39m'\u001b[39m\u001b[39mor\u001b[39m\u001b[39m'\u001b[39m\u001b[39m, \u001b[39m\u001b[39m\"\u001b[39m\n\u001b[1;32m   1371\u001b[0m         \u001b[39m\"\u001b[39m\u001b[39m'\u001b[39m\u001b[39m~\u001b[39m\u001b[39m'\u001b[39m\u001b[39m for \u001b[39m\u001b[39m'\u001b[39m\u001b[39mnot\u001b[39m\u001b[39m'\u001b[39m\u001b[39m when building DataFrame boolean expressions.\u001b[39m\u001b[39m\"\u001b[39m\n\u001b[1;32m   1372\u001b[0m     )\n",
      "\u001b[0;31mValueError\u001b[0m: Cannot convert column into bool: please use '&' for 'and', '|' for 'or', '~' for 'not' when building DataFrame boolean expressions."
     ]
    }
   ],
   "source": [
    "result_df = df_joined.withColumn('Financial_service', compare_services('Comparison'))\n"
   ]
  },
  {
   "cell_type": "code",
   "execution_count": 92,
   "metadata": {},
   "outputs": [
    {
     "name": "stdout",
     "output_type": "stream",
     "text": [
      "root\n",
      " |-- code: string (nullable = true)\n",
      " |-- service_label: string (nullable = true)\n",
      " |-- time_ref: date (nullable = true)\n",
      " |-- account: string (nullable = true)\n",
      " |-- code: string (nullable = true)\n",
      " |-- country_code: string (nullable = true)\n",
      " |-- product_type: string (nullable = true)\n",
      " |-- value: double (nullable = true)\n",
      " |-- status: string (nullable = true)\n",
      " |-- code: string (nullable = true)\n",
      " |-- service_label: string (nullable = true)\n",
      " |-- time_ref: date (nullable = true)\n",
      " |-- account: string (nullable = true)\n",
      " |-- code: string (nullable = true)\n",
      " |-- country_code: string (nullable = true)\n",
      " |-- product_type: string (nullable = true)\n",
      " |-- value_exp: double (nullable = true)\n",
      " |-- status: string (nullable = true)\n",
      " |-- Comparison: double (nullable = true)\n",
      "\n"
     ]
    }
   ],
   "source": [
    "df_joined.printSchema()"
   ]
  },
  {
   "attachments": {},
   "cell_type": "markdown",
   "metadata": {},
   "source": [
    "Because of multiple error while extracting data from separate import and export, I couldnot to complete question no. 6"
   ]
  },
  {
   "cell_type": "markdown",
   "metadata": {},
   "source": []
  },
  {
   "cell_type": "code",
   "execution_count": null,
   "metadata": {},
   "outputs": [],
   "source": []
  }
 ],
 "metadata": {
  "kernelspec": {
   "display_name": "Python 3",
   "language": "python",
   "name": "python3"
  },
  "language_info": {
   "codemirror_mode": {
    "name": "ipython",
    "version": 3
   },
   "file_extension": ".py",
   "mimetype": "text/x-python",
   "name": "python",
   "nbconvert_exporter": "python",
   "pygments_lexer": "ipython3",
   "version": "3.11.5 (main, Aug 24 2023, 15:09:45) [Clang 14.0.3 (clang-1403.0.22.14.1)]"
  },
  "orig_nbformat": 4,
  "vscode": {
   "interpreter": {
    "hash": "b0fa6594d8f4cbf19f97940f81e996739fb7646882a419484c72d19e05852a7e"
   }
  }
 },
 "nbformat": 4,
 "nbformat_minor": 2
}
