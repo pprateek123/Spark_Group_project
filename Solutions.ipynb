{
 "cells": [
  {
   "cell_type": "code",
   "execution_count": 101,
   "metadata": {},
   "outputs": [],
   "source": [
    "import findspark\n",
    "findspark.init()\n",
    "from pyspark.sql import SparkSession\n",
    "\n",
    "spark = SparkSession.builder.appName(\"solutions\").getOrCreate()"
   ]
  },
  {
   "cell_type": "code",
   "execution_count": 102,
   "metadata": {},
   "outputs": [],
   "source": [
    "from pyspark.sql.functions import sum , col \n"
   ]
  },
  {
   "cell_type": "code",
   "execution_count": 103,
   "metadata": {},
   "outputs": [],
   "source": [
    "#load datasets \n",
    "\n",
    "data_path = \"./data/revised_final_data.csv\"  \n",
    "df = spark.read.csv(data_path, header=True, inferSchema=True)\n",
    "\n",
    "data_path = \"./data/goods_classification.csv\"  \n",
    "df_goods = spark.read.csv(data_path, header=True, inferSchema=True)\n",
    "\n",
    "data_path = \"./data/country_classification.csv\"  \n",
    "df_country = spark.read.csv(data_path, header=True, inferSchema=True)\n",
    "data_path = \"./data/services_classification.csv\"  \n",
    "df_services = spark.read.csv(data_path, header=True, inferSchema=True)\n",
    "\n"
   ]
  },
  {
   "cell_type": "code",
   "execution_count": 104,
   "metadata": {},
   "outputs": [
    {
     "name": "stdout",
     "output_type": "stream",
     "text": [
      "+----------+-------+----+------------+------------+-------------+------+\n",
      "|  time_ref|account|code|country_code|product_type|        value|status|\n",
      "+----------+-------+----+------------+------------+-------------+------+\n",
      "|2023-06-30|Exports|  00|          AE|       Goods| 2.82028909E8|     F|\n",
      "|2023-06-30|Exports|  00|          AG|       Goods|     351919.0|     F|\n",
      "|2023-06-30|Exports|  00|          AI|       Goods|      84762.0|     F|\n",
      "|2023-06-30|Exports|  00|          AL|       Goods|       3463.0|     F|\n",
      "|2023-06-30|Exports|  00|          AM|       Goods|     679586.0|     F|\n",
      "|2023-06-30|Exports|  00|          AO|       Goods|     464583.0|     F|\n",
      "|2023-06-30|Exports|  00|          AR|       Goods|    5943055.0|     F|\n",
      "|2023-06-30|Exports|  00|          AS|       Goods|  1.1622992E7|     F|\n",
      "|2023-06-30|Exports|  00|          AT|       Goods|  1.1202334E7|     F|\n",
      "|2023-06-30|Exports|  00|          AU|       Goods|2.272665701E9|     F|\n",
      "|2023-06-30|Exports|  00|          AW|       Goods|     362396.0|     F|\n",
      "|2023-06-30|Exports|  00|          AZ|       Goods|    5816857.0|     F|\n",
      "|2023-06-30|Exports|  00|          BB|       Goods|    8464598.0|     F|\n",
      "|2023-06-30|Exports|  00|          BD|       Goods| 1.77083931E8|     F|\n",
      "|2023-06-30|Exports|  00|          BE|       Goods|  9.4312051E7|     F|\n",
      "|2023-06-30|Exports|  00|          BF|       Goods|      36757.0|     F|\n",
      "|2023-06-30|Exports|  00|          BG|       Goods|    3697081.0|     F|\n",
      "|2023-06-30|Exports|  00|          BH|       Goods|   2.272435E7|     F|\n",
      "|2023-06-30|Exports|  00|          BJ|       Goods|     507511.0|     F|\n",
      "|2023-06-30|Exports|  00|          BM|       Goods|     529761.0|     F|\n",
      "+----------+-------+----+------------+------------+-------------+------+\n",
      "only showing top 20 rows\n",
      "\n"
     ]
    }
   ],
   "source": [
    "df.show()"
   ]
  },
  {
   "cell_type": "code",
   "execution_count": 105,
   "metadata": {},
   "outputs": [
    {
     "name": "stdout",
     "output_type": "stream",
     "text": [
      "root\n",
      " |-- time_ref: date (nullable = true)\n",
      " |-- account: string (nullable = true)\n",
      " |-- code: string (nullable = true)\n",
      " |-- country_code: string (nullable = true)\n",
      " |-- product_type: string (nullable = true)\n",
      " |-- value: double (nullable = true)\n",
      " |-- status: string (nullable = true)\n",
      "\n"
     ]
    }
   ],
   "source": [
    "df.printSchema()"
   ]
  },
  {
   "cell_type": "code",
   "execution_count": 106,
   "metadata": {},
   "outputs": [],
   "source": [
    "df = df.withColumn('value', col('value').cast('int'))"
   ]
  },
  {
   "cell_type": "code",
   "execution_count": 107,
   "metadata": {},
   "outputs": [
    {
     "name": "stdout",
     "output_type": "stream",
     "text": [
      "root\n",
      " |-- time_ref: date (nullable = true)\n",
      " |-- account: string (nullable = true)\n",
      " |-- code: string (nullable = true)\n",
      " |-- country_code: string (nullable = true)\n",
      " |-- product_type: string (nullable = true)\n",
      " |-- value: integer (nullable = true)\n",
      " |-- status: string (nullable = true)\n",
      "\n"
     ]
    }
   ],
   "source": [
    "df.printSchema()"
   ]
  },
  {
   "cell_type": "markdown",
   "metadata": {},
   "source": [
    "<h2>Question1 : Calculate the total export value for each country in the 'revised_final' table. Show the top 10 countries with the highest total export values.\n",
    " </h2>"
   ]
  },
  {
   "cell_type": "code",
   "execution_count": 108,
   "metadata": {},
   "outputs": [
    {
     "name": "stdout",
     "output_type": "stream",
     "text": [
      "+--------------------+------------+------------------+\n",
      "|       country_label|country_code|total_export_value|\n",
      "+--------------------+------------+------------------+\n",
      "|China, People's R...|          CN|      168541418942|\n",
      "|           Australia|          AU|      124044791511|\n",
      "|United States of ...|          US|      106261562532|\n",
      "|               Japan|          JP|       40647876106|\n",
      "|  Korea, Republic of|          KR|       24767856475|\n",
      "|      United Kingdom|          GB|       22290125277|\n",
      "|           Singapore|          SG|       18358723868|\n",
      "|           Indonesia|          ID|       15861041776|\n",
      "|              Taiwan|          TW|       15548494077|\n",
      "|Hong Kong (Specia...|          HK|       12708136935|\n",
      "+--------------------+------------+------------------+\n",
      "\n"
     ]
    }
   ],
   "source": [
    "\n",
    "result = df.where(col('account')=='Exports').groupBy('country_code').agg(sum('value').alias('total_export_value'))\n",
    "result = result.join(df_country,result['country_code']==df_country['country_code'],'inner')\n",
    "result = result.select('country_label',df['country_code'],'total_export_value')\n",
    "result = result.orderBy(result.total_export_value.desc()).limit(10)\n",
    "result.show()"
   ]
  },
  {
   "cell_type": "code",
   "execution_count": 109,
   "metadata": {},
   "outputs": [
    {
     "name": "stdout",
     "output_type": "stream",
     "text": [
      "+----------+-------+----+------------+------------+----------+------+\n",
      "|  time_ref|account|code|country_code|product_type|     value|status|\n",
      "+----------+-------+----+------------+------------+----------+------+\n",
      "|2023-06-30|Exports|  00|          AE|       Goods| 282028909|     F|\n",
      "|2023-06-30|Exports|  00|          AG|       Goods|    351919|     F|\n",
      "|2023-06-30|Exports|  00|          AI|       Goods|     84762|     F|\n",
      "|2023-06-30|Exports|  00|          AL|       Goods|      3463|     F|\n",
      "|2023-06-30|Exports|  00|          AM|       Goods|    679586|     F|\n",
      "|2023-06-30|Exports|  00|          AO|       Goods|    464583|     F|\n",
      "|2023-06-30|Exports|  00|          AR|       Goods|   5943055|     F|\n",
      "|2023-06-30|Exports|  00|          AS|       Goods|  11622992|     F|\n",
      "|2023-06-30|Exports|  00|          AT|       Goods|  11202334|     F|\n",
      "|2023-06-30|Exports|  00|          AU|       Goods|2147483647|     F|\n",
      "|2023-06-30|Exports|  00|          AW|       Goods|    362396|     F|\n",
      "|2023-06-30|Exports|  00|          AZ|       Goods|   5816857|     F|\n",
      "|2023-06-30|Exports|  00|          BB|       Goods|   8464598|     F|\n",
      "|2023-06-30|Exports|  00|          BD|       Goods| 177083931|     F|\n",
      "|2023-06-30|Exports|  00|          BE|       Goods|  94312051|     F|\n",
      "|2023-06-30|Exports|  00|          BF|       Goods|     36757|     F|\n",
      "|2023-06-30|Exports|  00|          BG|       Goods|   3697081|     F|\n",
      "|2023-06-30|Exports|  00|          BH|       Goods|  22724350|     F|\n",
      "|2023-06-30|Exports|  00|          BJ|       Goods|    507511|     F|\n",
      "|2023-06-30|Exports|  00|          BM|       Goods|    529761|     F|\n",
      "|2023-06-30|Exports|  00|          BN|       Goods|    697610|     F|\n",
      "|2023-06-30|Exports|  00|          BO|       Goods|    254497|     F|\n",
      "|2023-06-30|Exports|  00|          BR|       Goods|  29068274|     F|\n",
      "|2023-06-30|Exports|  00|          BS|       Goods|    906550|     F|\n",
      "|2023-06-30|Exports|  00|          BT|       Goods|      4143|     F|\n",
      "|2023-06-30|Exports|  00|          BW|       Goods|     11472|     F|\n",
      "|2023-06-30|Exports|  00|          BY|       Goods|    470416|     F|\n",
      "|2023-06-30|Exports|  00|          BZ|       Goods|     28287|     F|\n",
      "|2023-06-30|Exports|  00|          CA|       Goods| 249493033|     F|\n",
      "|2023-06-30|Exports|  00|          CD|       Goods|   1265093|     F|\n",
      "|2023-06-30|Exports|  00|          CG|       Goods|    406952|     F|\n",
      "|2023-06-30|Exports|  00|          CH|       Goods|  25820680|     F|\n",
      "|2023-06-30|Exports|  00|          CI|       Goods|   4771900|     F|\n",
      "|2023-06-30|Exports|  00|          CK|       Goods|  38216008|     F|\n",
      "|2023-06-30|Exports|  00|          CL|       Goods|  76327985|     F|\n",
      "|2023-06-30|Exports|  00|          CM|       Goods|  12880313|     F|\n",
      "|2023-06-30|Exports|  00|          CN|       Goods|2147483647|     F|\n",
      "|2023-06-30|Exports|  00|          CO|       Goods|   6043420|     F|\n",
      "|2023-06-30|Exports|  00|          CR|       Goods|   2030680|     F|\n",
      "|2023-06-30|Exports|  00|          CV|       Goods|     15261|     F|\n",
      "|2023-06-30|Exports|  00|          CW|       Goods|    353276|     F|\n",
      "|2023-06-30|Exports|  00|          CX|       Goods|     65981|     F|\n",
      "|2023-06-30|Exports|  00|          CY|       Goods|   3815466|     F|\n",
      "|2023-06-30|Exports|  00|          CZ|       Goods|   8423744|     F|\n",
      "|2023-06-30|Exports|  00|          DE|       Goods| 193395790|     F|\n",
      "|2023-06-30|Exports|  00|          DJ|       Goods|   1106327|     F|\n",
      "|2023-06-30|Exports|  00|          DK|       Goods|  42070862|     F|\n",
      "|2023-06-30|Exports|  00|          DO|       Goods|   8827037|     F|\n",
      "|2023-06-30|Exports|  00|          DZ|       Goods| 397053820|     F|\n",
      "|2023-06-30|Exports|  00|          EC|       Goods|   1247166|     F|\n",
      "|2023-06-30|Exports|  00|          EE|       Goods|   1786001|     F|\n",
      "|2023-06-30|Exports|  00|          EG|       Goods|  43030230|     F|\n",
      "|2023-06-30|Exports|  00|          ES|       Goods|  53467022|     F|\n",
      "|2023-06-30|Exports|  00|          ET|       Goods|    647723|     F|\n",
      "|2023-06-30|Exports|  00|          FI|       Goods|   3086810|     F|\n",
      "|2023-06-30|Exports|  00|          FJ|       Goods| 140275559|     F|\n",
      "|2023-06-30|Exports|  00|          FK|       Goods|     68510|     F|\n",
      "|2023-06-30|Exports|  00|          FM|       Goods|   1328960|     F|\n",
      "|2023-06-30|Exports|  00|          FO|       Goods|    242897|     F|\n",
      "|2023-06-30|Exports|  00|          FR|       Goods| 134005754|     F|\n",
      "|2023-06-30|Exports|  00|          GA|       Goods|    342310|     F|\n",
      "|2023-06-30|Exports|  00|          GB|       Goods| 451531125|     F|\n",
      "|2023-06-30|Exports|  00|          GD|       Goods|   1216406|     F|\n",
      "|2023-06-30|Exports|  00|          GE|       Goods|  17203651|     F|\n",
      "|2023-06-30|Exports|  00|          GF|       Goods|    106284|     F|\n",
      "|2023-06-30|Exports|  00|          GH|       Goods|   5103917|     F|\n",
      "|2023-06-30|Exports|  00|          GI|       Goods|      2429|     F|\n",
      "|2023-06-30|Exports|  00|          GM|       Goods|      5917|     F|\n",
      "|2023-06-30|Exports|  00|          GN|       Goods|    389756|     F|\n",
      "|2023-06-30|Exports|  00|          GP|       Goods|   1822307|     F|\n",
      "|2023-06-30|Exports|  00|          GQ|       Goods|    385364|     F|\n",
      "|2023-06-30|Exports|  00|          GR|       Goods|  23604008|     F|\n",
      "|2023-06-30|Exports|  00|          GS|       Goods|     24266|     F|\n",
      "|2023-06-30|Exports|  00|          GT|       Goods|  18798973|     F|\n",
      "|2023-06-30|Exports|  00|          GU|       Goods|   2768144|     F|\n",
      "|2023-06-30|Exports|  00|          GY|       Goods|   7249124|     F|\n",
      "|2023-06-30|Exports|  00|          HK|       Goods| 320900257|     F|\n",
      "|2023-06-30|Exports|  00|          HN|       Goods|    924839|     F|\n",
      "|2023-06-30|Exports|  00|          HR|       Goods|    825254|     F|\n",
      "|2023-06-30|Exports|  00|          HU|       Goods|   1455439|     F|\n",
      "|2023-06-30|Exports|  00|          ID|       Goods| 454574112|     F|\n",
      "|2023-06-30|Exports|  00|          IE|       Goods|  26449122|     F|\n",
      "|2023-06-30|Exports|  00|          IL|       Goods|   7586707|     F|\n",
      "|2023-06-30|Exports|  00|          IN|       Goods| 128316271|     F|\n",
      "|2023-06-30|Exports|  00|          IQ|       Goods|   1503668|     F|\n",
      "|2023-06-30|Exports|  00|          IR|       Goods|    544289|     F|\n",
      "|2023-06-30|Exports|  00|          IS|       Goods|    788874|     F|\n",
      "|2023-06-30|Exports|  00|          IT|       Goods|  48153535|     F|\n",
      "|2023-06-30|Exports|  00|          JM|       Goods|  11355637|     F|\n",
      "|2023-06-30|Exports|  00|          JO|       Goods|  22540974|     F|\n",
      "|2023-06-30|Exports|  00|          JP|       Goods|1168737334|     F|\n",
      "|2023-06-30|Exports|  00|          KE|       Goods|    325028|     F|\n",
      "|2023-06-30|Exports|  00|          KG|       Goods|     49899|     F|\n",
      "|2023-06-30|Exports|  00|          KH|       Goods|   5994804|     F|\n",
      "|2023-06-30|Exports|  00|          KI|       Goods|   4072619|     F|\n",
      "|2023-06-30|Exports|  00|          KR|       Goods| 676980586|     F|\n",
      "|2023-06-30|Exports|  00|          KW|       Goods|  45012797|     F|\n",
      "|2023-06-30|Exports|  00|          KY|       Goods|    344157|     F|\n",
      "|2023-06-30|Exports|  00|          KZ|       Goods|   1058183|     F|\n",
      "|2023-06-30|Exports|  00|          LA|       Goods|    192456|     F|\n",
      "+----------+-------+----+------------+------------+----------+------+\n",
      "only showing top 100 rows\n",
      "\n"
     ]
    }
   ],
   "source": []
  }
 ],
 "metadata": {
  "kernelspec": {
   "display_name": ".venv_group",
   "language": "python",
   "name": ".venv_group"
  },
  "language_info": {
   "codemirror_mode": {
    "name": "ipython",
    "version": 3
   },
   "file_extension": ".py",
   "mimetype": "text/x-python",
   "name": "python",
   "nbconvert_exporter": "python",
   "pygments_lexer": "ipython3",
   "version": "3.10.12"
  },
  "orig_nbformat": 4
 },
 "nbformat": 4,
 "nbformat_minor": 2
}
