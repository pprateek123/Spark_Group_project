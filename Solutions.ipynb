{
 "cells": [
  {
   "cell_type": "code",
   "execution_count": 129,
   "metadata": {},
   "outputs": [],
   "source": [
    "import findspark\n",
    "findspark.init()\n",
    "from pyspark.sql import SparkSession\n",
    "\n",
    "spark = SparkSession.builder.appName(\"solutions\").getOrCreate()"
   ]
  },
  {
   "cell_type": "code",
   "execution_count": 130,
   "metadata": {},
   "outputs": [],
   "source": [
    "from pyspark.sql.functions import sum , col ,length"
   ]
  },
  {
   "cell_type": "code",
   "execution_count": 131,
   "metadata": {},
   "outputs": [],
   "source": [
    "#load datasets \n",
    "\n",
    "data_path = \"./data/revised_final_data1.csv\"  \n",
    "df = spark.read.csv(data_path, header=True, inferSchema=True)\n",
    "\n",
    "data_path = \"./data/goods_classification.csv\"  \n",
    "df_goods = spark.read.csv(data_path, header=True, inferSchema=True)\n",
    "\n",
    "data_path = \"./data/country_classification.csv\"  \n",
    "df_country = spark.read.csv(data_path, header=True, inferSchema=True)\n",
    "data_path = \"./data/services_classification.csv\"  \n",
    "df_services = spark.read.csv(data_path, header=True, inferSchema=True)\n",
    "\n"
   ]
  },
  {
   "cell_type": "code",
   "execution_count": 139,
   "metadata": {},
   "outputs": [
    {
     "name": "stdout",
     "output_type": "stream",
     "text": [
      "+----+\n",
      "|code|\n",
      "+----+\n",
      "|0101|\n",
      "|0101|\n",
      "|0101|\n",
      "|0101|\n",
      "|0101|\n",
      "|0102|\n",
      "|0104|\n",
      "|0104|\n",
      "|0104|\n",
      "|0104|\n",
      "|0104|\n",
      "|0105|\n",
      "|0105|\n",
      "|0105|\n",
      "|0105|\n",
      "|0105|\n",
      "|0105|\n",
      "|0105|\n",
      "|0105|\n",
      "|0105|\n",
      "+----+\n",
      "only showing top 20 rows\n",
      "\n"
     ]
    }
   ],
   "source": [
    "df.select('code').where(length(col('code'))>2).show()"
   ]
  },
  {
   "cell_type": "code",
   "execution_count": 115,
   "metadata": {},
   "outputs": [
    {
     "name": "stdout",
     "output_type": "stream",
     "text": [
      "root\n",
      " |-- time_ref: date (nullable = true)\n",
      " |-- account: string (nullable = true)\n",
      " |-- code: string (nullable = true)\n",
      " |-- country_code: string (nullable = true)\n",
      " |-- product_type: string (nullable = true)\n",
      " |-- value: double (nullable = true)\n",
      " |-- status: string (nullable = true)\n",
      "\n"
     ]
    }
   ],
   "source": [
    "df.printSchema()"
   ]
  },
  {
   "cell_type": "code",
   "execution_count": 116,
   "metadata": {},
   "outputs": [],
   "source": [
    "df = df.withColumn('value', col('value').cast('int'))"
   ]
  },
  {
   "cell_type": "code",
   "execution_count": 117,
   "metadata": {},
   "outputs": [
    {
     "name": "stdout",
     "output_type": "stream",
     "text": [
      "root\n",
      " |-- time_ref: date (nullable = true)\n",
      " |-- account: string (nullable = true)\n",
      " |-- code: string (nullable = true)\n",
      " |-- country_code: string (nullable = true)\n",
      " |-- product_type: string (nullable = true)\n",
      " |-- value: integer (nullable = true)\n",
      " |-- status: string (nullable = true)\n",
      "\n"
     ]
    }
   ],
   "source": [
    "df.printSchema()"
   ]
  },
  {
   "cell_type": "markdown",
   "metadata": {},
   "source": [
    "<h2>Question1 : Calculate the total export value for each country in the 'revised_final' table. Show the top 10 countries with the highest total export values.\n",
    " </h2>"
   ]
  },
  {
   "cell_type": "code",
   "execution_count": 118,
   "metadata": {},
   "outputs": [
    {
     "name": "stdout",
     "output_type": "stream",
     "text": [
      "+--------------------+------------+------------------+\n",
      "|       country_label|country_code|total_export_value|\n",
      "+--------------------+------------+------------------+\n",
      "|China, People's R...|          CN|      168541418942|\n",
      "|           Australia|          AU|      124044791511|\n",
      "|United States of ...|          US|      106261562532|\n",
      "|               Japan|          JP|       40647876106|\n",
      "|  Korea, Republic of|          KR|       24767856475|\n",
      "|      United Kingdom|          GB|       22290125277|\n",
      "|           Singapore|          SG|       18358723868|\n",
      "|           Indonesia|          ID|       15861041776|\n",
      "|              Taiwan|          TW|       15548494077|\n",
      "|Hong Kong (Specia...|          HK|       12708136935|\n",
      "+--------------------+------------+------------------+\n",
      "\n"
     ]
    }
   ],
   "source": [
    "\n",
    "result = df.where(col('account')=='Exports').groupBy('country_code').agg(sum('value').alias('total_export_value'))\n",
    "result = result.join(df_country,result['country_code']==df_country['country_code'],'inner')\n",
    "result = result.select('country_label',df['country_code'],'total_export_value')\n",
    "result = result.orderBy(result.total_export_value.desc()).limit(10)\n",
    "result.show()"
   ]
  },
  {
   "cell_type": "code",
   "execution_count": null,
   "metadata": {},
   "outputs": [],
   "source": []
  }
 ],
 "metadata": {
  "kernelspec": {
   "display_name": ".venv_group",
   "language": "python",
   "name": ".venv_group"
  },
  "language_info": {
   "codemirror_mode": {
    "name": "ipython",
    "version": 3
   },
   "file_extension": ".py",
   "mimetype": "text/x-python",
   "name": "python",
   "nbconvert_exporter": "python",
   "pygments_lexer": "ipython3",
   "version": "3.10.12"
  },
  "orig_nbformat": 4
 },
 "nbformat": 4,
 "nbformat_minor": 2
}
