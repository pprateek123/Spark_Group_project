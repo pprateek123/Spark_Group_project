{
 "cells": [
  {
   "cell_type": "code",
   "execution_count": 2,
   "metadata": {},
   "outputs": [
    {
     "name": "stderr",
     "output_type": "stream",
     "text": [
      "Setting default log level to \"WARN\".\n",
      "To adjust logging level use sc.setLogLevel(newLevel). For SparkR, use setLogLevel(newLevel).\n",
      "23/09/05 13:43:35 WARN NativeCodeLoader: Unable to load native-hadoop library for your platform... using builtin-java classes where applicable\n"
     ]
    }
   ],
   "source": [
    "import findspark\n",
    "findspark.init()\n",
    "from pyspark.sql import SparkSession\n",
    "\n",
    "spark = SparkSession.builder.appName(\"exploration\").getOrCreate()\n"
   ]
  },
  {
   "cell_type": "code",
   "execution_count": 3,
   "metadata": {},
   "outputs": [],
   "source": [
    "from pyspark.sql.functions import col, cast,concat_ws,substring,lit,to_date"
   ]
  },
  {
   "cell_type": "code",
   "execution_count": 4,
   "metadata": {},
   "outputs": [
    {
     "name": "stderr",
     "output_type": "stream",
     "text": [
      "                                                                                \r"
     ]
    }
   ],
   "source": [
    "# loading the revised_final dataset from the data folder \n",
    "\n",
    "data_path = \"./data/revised_final.csv\"  \n",
    "df = spark.read.csv(data_path, header=True, inferSchema=True)"
   ]
  },
  {
   "cell_type": "code",
   "execution_count": 5,
   "metadata": {},
   "outputs": [],
   "source": [
    "#loading goods_classifiation \n",
    "data_path = \"./data/goods_classification.csv\"  \n",
    "df_goods = spark.read.csv(data_path, header=True, inferSchema=True)\n",
    "\n",
    "data_path = \"./data/country_classification.csv\"  \n",
    "df_country = spark.read.csv(data_path, header=True, inferSchema=True)\n",
    "data_path = \"./data/services_classification.csv\"  \n",
    "df_services = spark.read.csv(data_path, header=True, inferSchema=True)"
   ]
  },
  {
   "cell_type": "code",
   "execution_count": 6,
   "metadata": {},
   "outputs": [
    {
     "name": "stdout",
     "output_type": "stream",
     "text": [
      "+--------+-------+----+------------+------------+-------------+------+\n",
      "|time_ref|account|code|country_code|product_type|        value|status|\n",
      "+--------+-------+----+------------+------------+-------------+------+\n",
      "|  202306|Exports|  00|          AE|       Goods| 2.82028909E8|     F|\n",
      "|  202306|Exports|  00|          AG|       Goods|     351919.0|     F|\n",
      "|  202306|Exports|  00|          AI|       Goods|      84762.0|     F|\n",
      "|  202306|Exports|  00|          AL|       Goods|       3463.0|     F|\n",
      "|  202306|Exports|  00|          AM|       Goods|     679586.0|     F|\n",
      "|  202306|Exports|  00|          AO|       Goods|     464583.0|     F|\n",
      "|  202306|Exports|  00|          AR|       Goods|    5943055.0|     F|\n",
      "|  202306|Exports|  00|          AS|       Goods|  1.1622992E7|     F|\n",
      "|  202306|Exports|  00|          AT|       Goods|  1.1202334E7|     F|\n",
      "|  202306|Exports|  00|          AU|       Goods|2.272665701E9|     F|\n",
      "|  202306|Exports|  00|          AW|       Goods|     362396.0|     F|\n",
      "|  202306|Exports|  00|          AZ|       Goods|    5816857.0|     F|\n",
      "|  202306|Exports|  00|          BB|       Goods|    8464598.0|     F|\n",
      "|  202306|Exports|  00|          BD|       Goods| 1.77083931E8|     F|\n",
      "|  202306|Exports|  00|          BE|       Goods|  9.4312051E7|     F|\n",
      "|  202306|Exports|  00|          BF|       Goods|      36757.0|     F|\n",
      "|  202306|Exports|  00|          BG|       Goods|    3697081.0|     F|\n",
      "|  202306|Exports|  00|          BH|       Goods|   2.272435E7|     F|\n",
      "|  202306|Exports|  00|          BJ|       Goods|     507511.0|     F|\n",
      "|  202306|Exports|  00|          BM|       Goods|     529761.0|     F|\n",
      "+--------+-------+----+------------+------------+-------------+------+\n",
      "only showing top 20 rows\n",
      "\n"
     ]
    }
   ],
   "source": [
    "df.show()"
   ]
  },
  {
   "cell_type": "code",
   "execution_count": 7,
   "metadata": {},
   "outputs": [
    {
     "name": "stdout",
     "output_type": "stream",
     "text": [
      "root\n",
      " |-- time_ref: integer (nullable = true)\n",
      " |-- account: string (nullable = true)\n",
      " |-- code: string (nullable = true)\n",
      " |-- country_code: string (nullable = true)\n",
      " |-- product_type: string (nullable = true)\n",
      " |-- value: double (nullable = true)\n",
      " |-- status: string (nullable = true)\n",
      "\n"
     ]
    }
   ],
   "source": [
    "df.printSchema()"
   ]
  },
  {
   "cell_type": "code",
   "execution_count": 8,
   "metadata": {},
   "outputs": [
    {
     "data": {
      "text/plain": [
       "700000"
      ]
     },
     "execution_count": 8,
     "metadata": {},
     "output_type": "execute_result"
    }
   ],
   "source": [
    "#number of rows \n",
    "df.count()"
   ]
  },
  {
   "cell_type": "code",
   "execution_count": 9,
   "metadata": {},
   "outputs": [],
   "source": [
    "#we haveto change the time_ref into string so that we can use string methods for manipulation. \n",
    "df = df.withColumn(\"time_ref\", col(\"time_ref\").cast(\"string\"))\n",
    "\n"
   ]
  },
  {
   "cell_type": "code",
   "execution_count": 10,
   "metadata": {},
   "outputs": [
    {
     "name": "stdout",
     "output_type": "stream",
     "text": [
      "root\n",
      " |-- time_ref: string (nullable = true)\n",
      " |-- account: string (nullable = true)\n",
      " |-- code: string (nullable = true)\n",
      " |-- country_code: string (nullable = true)\n",
      " |-- product_type: string (nullable = true)\n",
      " |-- value: double (nullable = true)\n",
      " |-- status: string (nullable = true)\n",
      "\n"
     ]
    }
   ],
   "source": [
    "#you can see that the time_ref has been changed into string \n",
    "df.printSchema()"
   ]
  },
  {
   "cell_type": "code",
   "execution_count": 11,
   "metadata": {},
   "outputs": [],
   "source": [
    "#concat_ws is used here to concat strings with delimiter \"\\\"\n",
    "#lit is used to append \"30\" as  a string at theend of the data.\n",
    "df = df.withColumn(\"time_ref\", concat_ws(\"/\", substring(col(\"time_ref\"), 1, 4), substring(col(\"time_ref\"), 5, 2), lit('30')))\n"
   ]
  },
  {
   "cell_type": "code",
   "execution_count": 12,
   "metadata": {},
   "outputs": [
    {
     "name": "stdout",
     "output_type": "stream",
     "text": [
      "+----------+-------+----+------------+------------+-------------+------+\n",
      "|  time_ref|account|code|country_code|product_type|        value|status|\n",
      "+----------+-------+----+------------+------------+-------------+------+\n",
      "|2023/06/30|Exports|  00|          AE|       Goods| 2.82028909E8|     F|\n",
      "|2023/06/30|Exports|  00|          AG|       Goods|     351919.0|     F|\n",
      "|2023/06/30|Exports|  00|          AI|       Goods|      84762.0|     F|\n",
      "|2023/06/30|Exports|  00|          AL|       Goods|       3463.0|     F|\n",
      "|2023/06/30|Exports|  00|          AM|       Goods|     679586.0|     F|\n",
      "|2023/06/30|Exports|  00|          AO|       Goods|     464583.0|     F|\n",
      "|2023/06/30|Exports|  00|          AR|       Goods|    5943055.0|     F|\n",
      "|2023/06/30|Exports|  00|          AS|       Goods|  1.1622992E7|     F|\n",
      "|2023/06/30|Exports|  00|          AT|       Goods|  1.1202334E7|     F|\n",
      "|2023/06/30|Exports|  00|          AU|       Goods|2.272665701E9|     F|\n",
      "|2023/06/30|Exports|  00|          AW|       Goods|     362396.0|     F|\n",
      "|2023/06/30|Exports|  00|          AZ|       Goods|    5816857.0|     F|\n",
      "|2023/06/30|Exports|  00|          BB|       Goods|    8464598.0|     F|\n",
      "|2023/06/30|Exports|  00|          BD|       Goods| 1.77083931E8|     F|\n",
      "|2023/06/30|Exports|  00|          BE|       Goods|  9.4312051E7|     F|\n",
      "|2023/06/30|Exports|  00|          BF|       Goods|      36757.0|     F|\n",
      "|2023/06/30|Exports|  00|          BG|       Goods|    3697081.0|     F|\n",
      "|2023/06/30|Exports|  00|          BH|       Goods|   2.272435E7|     F|\n",
      "|2023/06/30|Exports|  00|          BJ|       Goods|     507511.0|     F|\n",
      "|2023/06/30|Exports|  00|          BM|       Goods|     529761.0|     F|\n",
      "+----------+-------+----+------------+------------+-------------+------+\n",
      "only showing top 20 rows\n",
      "\n"
     ]
    }
   ],
   "source": [
    "df.show()"
   ]
  },
  {
   "cell_type": "code",
   "execution_count": 13,
   "metadata": {},
   "outputs": [
    {
     "name": "stdout",
     "output_type": "stream",
     "text": [
      "root\n",
      " |-- time_ref: string (nullable = false)\n",
      " |-- account: string (nullable = true)\n",
      " |-- code: string (nullable = true)\n",
      " |-- country_code: string (nullable = true)\n",
      " |-- product_type: string (nullable = true)\n",
      " |-- value: double (nullable = true)\n",
      " |-- status: string (nullable = true)\n",
      "\n"
     ]
    }
   ],
   "source": [
    "df.printSchema()"
   ]
  },
  {
   "cell_type": "code",
   "execution_count": 14,
   "metadata": {},
   "outputs": [],
   "source": [
    "#now to change the string type column to date format. we use to_date\n",
    "df = df.withColumn(\"time_ref\", to_date(col(\"time_ref\"), \"yyyy/MM/dd\"))\n"
   ]
  },
  {
   "cell_type": "code",
   "execution_count": 15,
   "metadata": {},
   "outputs": [
    {
     "name": "stdout",
     "output_type": "stream",
     "text": [
      "root\n",
      " |-- time_ref: date (nullable = true)\n",
      " |-- account: string (nullable = true)\n",
      " |-- code: string (nullable = true)\n",
      " |-- country_code: string (nullable = true)\n",
      " |-- product_type: string (nullable = true)\n",
      " |-- value: double (nullable = true)\n",
      " |-- status: string (nullable = true)\n",
      "\n"
     ]
    }
   ],
   "source": [
    "df.printSchema()"
   ]
  },
  {
   "cell_type": "code",
   "execution_count": 16,
   "metadata": {},
   "outputs": [],
   "source": [
    "null_count_accnt = df.filter(col(\"product_type\").isNull()).count()\n",
    "null_count_code = df.filter(col(\"product_type\").isNull()).count()\n",
    "null_count_country_code = df.filter(col(\"product_type\").isNull()).count()\n",
    "null_count_product_type = df.filter(col(\"product_type\").isNull()).count()\n",
    "null_count_value = df.filter(col(\"product_type\").isNull()).count()\n",
    "null_count_status = df.filter(col(\"status\").isNull()).count()\n"
   ]
  },
  {
   "cell_type": "code",
   "execution_count": 17,
   "metadata": {},
   "outputs": [
    {
     "name": "stdout",
     "output_type": "stream",
     "text": [
      "0\n",
      "0\n",
      "0\n",
      "0\n",
      "0\n",
      "0\n"
     ]
    }
   ],
   "source": [
    "print(null_count_accnt)\n",
    "print(null_count_code)\n",
    "print(null_count_country_code)\n",
    "print(null_count_product_type)\n",
    "print(null_count_status)\n",
    "print(null_count_value)"
   ]
  },
  {
   "cell_type": "markdown",
   "metadata": {},
   "source": [
    "<h3>Goods dataset</h3>\n"
   ]
  },
  {
   "cell_type": "code",
   "execution_count": 18,
   "metadata": {},
   "outputs": [
    {
     "name": "stdout",
     "output_type": "stream",
     "text": [
      "root\n",
      " |-- NZHSC_Level_2_Code_HS4: integer (nullable = true)\n",
      " |-- NZHSC_Level_1_Code_HS2: string (nullable = true)\n",
      " |-- NZHSC_Level_2: string (nullable = true)\n",
      " |-- NZHSC_Level_1: string (nullable = true)\n",
      " |-- Status_HS4: string (nullable = true)\n",
      "\n"
     ]
    }
   ],
   "source": [
    "df_goods.printSchema()"
   ]
  },
  {
   "cell_type": "code",
   "execution_count": 19,
   "metadata": {},
   "outputs": [
    {
     "name": "stdout",
     "output_type": "stream",
     "text": [
      "+----------------------+----------------------+--------------------+--------------------+----------+\n",
      "|NZHSC_Level_2_Code_HS4|NZHSC_Level_1_Code_HS2|       NZHSC_Level_2|       NZHSC_Level_1|Status_HS4|\n",
      "+----------------------+----------------------+--------------------+--------------------+----------+\n",
      "|                   101|                    01|Horses, asses, mu...|       Animals; live|   Current|\n",
      "|                   102|                    01|Bovine animals; live|       Animals; live|   Current|\n",
      "|                   103|                    01|         Swine; live|       Animals; live|   Current|\n",
      "|                   104|                    01|Sheep and goats; ...|       Animals; live|   Current|\n",
      "|                   105|                    01|Poultry; live, fo...|       Animals; live|   Current|\n",
      "|                   106|                    01|Animals; live, n....|       Animals; live|   Current|\n",
      "|                   201|                    02|Meat of bovine an...|Meat and edible m...|   Current|\n",
      "|                   202|                    02|Meat of bovine an...|Meat and edible m...|   Current|\n",
      "|                   203|                    02|Meat of swine; fr...|Meat and edible m...|   Current|\n",
      "|                   204|                    02|Meat of sheep or ...|Meat and edible m...|   Current|\n",
      "|                   205|                    02|Meat; of horses, ...|Meat and edible m...|   Current|\n",
      "|                   206|                    02|Edible offal of b...|Meat and edible m...|   Current|\n",
      "|                   207|                    02|Meat and edible o...|Meat and edible m...|   Current|\n",
      "|                   208|                    02|Meat and edible m...|Meat and edible m...|   Current|\n",
      "|                   209|                    02|Pig fat, free of ...|Meat and edible m...|   Current|\n",
      "|                   210|                    02|Meat and edible m...|Meat and edible m...|   Current|\n",
      "|                   301|                    03|          Fish; live|Fish and crustace...|   Current|\n",
      "|                   302|                    03|Fish; fresh or ch...|Fish and crustace...|   Current|\n",
      "|                   303|                    03|Fish; frozen, exc...|Fish and crustace...|   Current|\n",
      "|                   304|                    03|Fish fillets and ...|Fish and crustace...|   Current|\n",
      "+----------------------+----------------------+--------------------+--------------------+----------+\n",
      "only showing top 20 rows\n",
      "\n"
     ]
    }
   ],
   "source": [
    "df_goods.show()"
   ]
  },
  {
   "cell_type": "code",
   "execution_count": 20,
   "metadata": {},
   "outputs": [
    {
     "name": "stdout",
     "output_type": "stream",
     "text": [
      "root\n",
      " |-- code: string (nullable = true)\n",
      " |-- service_label: string (nullable = true)\n",
      "\n"
     ]
    }
   ],
   "source": [
    "df_services.printSchema()"
   ]
  },
  {
   "cell_type": "code",
   "execution_count": 21,
   "metadata": {},
   "outputs": [
    {
     "name": "stdout",
     "output_type": "stream",
     "text": [
      "+-------+--------------------+\n",
      "|   code|       service_label|\n",
      "+-------+--------------------+\n",
      "|    A12|            Services|\n",
      "|  A1202|Maintenance and r...|\n",
      "|  A1203|      Transportation|\n",
      "| A12031|       Sea transport|\n",
      "|A120312|             Freight|\n",
      "|A120313|               Other|\n",
      "| A12032|       Air transport|\n",
      "|A120321|Air passenger tra...|\n",
      "|A120322|Air freight trans...|\n",
      "|A120323| Air other transport|\n",
      "| A12034|Postal and courie...|\n",
      "|  A1204|              Travel|\n",
      "| A12041|     Business travel|\n",
      "| A12042|     Personal travel|\n",
      "|A120421|Education related...|\n",
      "|A120422|Health related tr...|\n",
      "|A120423|Other personal tr...|\n",
      "|  A1205|Construction serv...|\n",
      "|  A1206|Insurance and pen...|\n",
      "| A12062|         Reinsurance|\n",
      "+-------+--------------------+\n",
      "only showing top 20 rows\n",
      "\n"
     ]
    }
   ],
   "source": [
    "df_services.show()"
   ]
  },
  {
   "cell_type": "code",
   "execution_count": 22,
   "metadata": {},
   "outputs": [
    {
     "name": "stdout",
     "output_type": "stream",
     "text": [
      "root\n",
      " |-- country_code: string (nullable = true)\n",
      " |-- country_label: string (nullable = true)\n",
      "\n"
     ]
    }
   ],
   "source": [
    "df_country.printSchema()"
   ]
  },
  {
   "cell_type": "code",
   "execution_count": 23,
   "metadata": {},
   "outputs": [
    {
     "name": "stdout",
     "output_type": "stream",
     "text": [
      "+------------+--------------------+\n",
      "|country_code|       country_label|\n",
      "+------------+--------------------+\n",
      "|          AD|             Andorra|\n",
      "|          AE|United Arab Emirates|\n",
      "|          AF|         Afghanistan|\n",
      "|          AG| Antigua and Barbuda|\n",
      "|          AI|            Anguilla|\n",
      "|          AL|             Albania|\n",
      "|          AM|             Armenia|\n",
      "|          AO|              Angola|\n",
      "|          AQ|          Antarctica|\n",
      "|          AR|           Argentina|\n",
      "|          AS|     Samoa, American|\n",
      "|          AT|             Austria|\n",
      "|          AU|           Australia|\n",
      "|          AW|               Aruba|\n",
      "|          AZ|          Azerbaijan|\n",
      "|          BA|Bosnia and Herzeg...|\n",
      "|          BB|            Barbados|\n",
      "|          BD|          Bangladesh|\n",
      "|          BE|             Belgium|\n",
      "|          BF|        Burkina Faso|\n",
      "+------------+--------------------+\n",
      "only showing top 20 rows\n",
      "\n"
     ]
    }
   ],
   "source": [
    "df_country.show()"
   ]
  }
 ],
 "metadata": {
  "kernelspec": {
   "display_name": ".venv_group",
   "language": "python",
   "name": ".venv_group"
  },
  "language_info": {
   "codemirror_mode": {
    "name": "ipython",
    "version": 3
   },
   "file_extension": ".py",
   "mimetype": "text/x-python",
   "name": "python",
   "nbconvert_exporter": "python",
   "pygments_lexer": "ipython3",
   "version": "3.10.12"
  },
  "orig_nbformat": 4
 },
 "nbformat": 4,
 "nbformat_minor": 2
}
